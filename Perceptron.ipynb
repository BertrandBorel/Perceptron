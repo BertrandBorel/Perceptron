{
 "cells": [
  {
   "cell_type": "markdown",
   "id": "fe16580f",
   "metadata": {},
   "source": [
    "# <center> Coder un perceptron avec Python </center>\n",
    "\n",
    "## Perceptron résolvant le problème \"AND\" :\n",
    "\n",
    "### Paramétrages des valeurs :"
   ]
  },
  {
   "cell_type": "code",
   "execution_count": 103,
   "id": "d3ca6f79",
   "metadata": {},
   "outputs": [],
   "source": [
    "# entrées\n",
    "inputs = [1, 1] #[x1, x2]\n",
    "\n",
    "# sortie\n",
    "outputs = [0, 0] # [y_reel, y_attendu]\n",
    "\n",
    "# poids\n",
    "weights = [1, 1] #[w1, w2]\n",
    "\n",
    "# biais \n",
    "b = -1"
   ]
  },
  {
   "cell_type": "markdown",
   "id": "f863a83a",
   "metadata": {},
   "source": [
    "### Fonctions :"
   ]
  },
  {
   "cell_type": "code",
   "execution_count": 104,
   "id": "ee733f8a",
   "metadata": {},
   "outputs": [],
   "source": [
    "import math\n",
    "\n",
    "\n",
    "# somme pondérée \n",
    "def somme(inputs): \n",
    "    s = 0\n",
    "    for x in range(len(inputs)):\n",
    "        s += inputs[x] * weights[x]\n",
    "    total = s + b\n",
    "    return total\n",
    "\n",
    "# fonction d'activation (sigmoïde)\n",
    "def sigmoid(x):\n",
    "    return 1/(1 + math.pow(math.e, (-1 * x)) )\n",
    "\n",
    "# application de la fonction d'activation\n",
    "def appel_fonction_activation(resultat_somme_ponderee):\n",
    "    activation = sigmoid(resultat_somme_ponderee)\n",
    "    return activation\n",
    "\n",
    "# résultat :\n",
    "def resultat(activation):\n",
    "    if activation > 0.5 :\n",
    "        valeur_finale = 1\n",
    "    else : \n",
    "        valeur_finale = 0\n",
    "    return valeur_finale"
   ]
  },
  {
   "cell_type": "markdown",
   "id": "0cb8191b",
   "metadata": {},
   "source": [
    "### Application : "
   ]
  },
  {
   "cell_type": "code",
   "execution_count": 105,
   "id": "d3435065",
   "metadata": {},
   "outputs": [
    {
     "name": "stdout",
     "output_type": "stream",
     "text": [
      "1\n"
     ]
    }
   ],
   "source": [
    "valeur_somme = somme(inputs)\n",
    "valeur_activation = appel_fonction_activation(valeur_somme)\n",
    "sortie = resultat(valeur_activation)\n",
    "print(sortie)"
   ]
  }
 ],
 "metadata": {
  "kernelspec": {
   "display_name": "Python 3 (ipykernel)",
   "language": "python",
   "name": "python3"
  },
  "language_info": {
   "codemirror_mode": {
    "name": "ipython",
    "version": 3
   },
   "file_extension": ".py",
   "mimetype": "text/x-python",
   "name": "python",
   "nbconvert_exporter": "python",
   "pygments_lexer": "ipython3",
   "version": "3.8.3"
  }
 },
 "nbformat": 4,
 "nbformat_minor": 5
}
